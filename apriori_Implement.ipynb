{
 "cells": [
  {
   "cell_type": "markdown",
   "id": "35082b21-3ef0-4a06-808b-ee4ae5a08eef",
   "metadata": {},
   "source": [
    "# Apriori Algorithm Implementation using Jupyter Labs\n",
    "\n",
    "This notebook demonstrates the implementation of the **Apriori algorithm** for association rule mining in **Jupyter Labs**.\n",
    "\n",
    "## Objective:\n",
    "- Generate random user transaction data in a **grocery superstore**.\n"
   ]
  },
  {
   "cell_type": "code",
   "execution_count": 1,
   "id": "2223a59d-35b0-496f-b6e7-f7433bf5b4c0",
   "metadata": {},
   "outputs": [],
   "source": [
    "import pandas as pd\n",
    "import numpy as np\n",
    "import random\n",
    "from mlxtend.frequent_patterns import apriori, association_rules"
   ]
  },
  {
   "cell_type": "markdown",
   "id": "35a7bcc1-0e9b-4f5c-992d-2759d50d1742",
   "metadata": {},
   "source": [
    "**List of 100 Frequently Bought Items**\n",
    "\n",
    "This list will be used to generate the random transactions.\n"
   ]
  },
  {
   "cell_type": "code",
   "execution_count": 2,
   "id": "715b707d-60ed-47cf-8d85-23acc8e1214b",
   "metadata": {},
   "outputs": [],
   "source": [
    "items = [\n",
    "    'Apples', 'Bananas', 'Oranges', 'Grapes', 'Tomatoes', 'Lettuce', 'Carrots', 'Potatoes', 'Cucumbers', 'Onions',\n",
    "    'Broccoli', 'Bell Peppers', 'Spinach', 'Zucchini', 'Eggplant', 'Cabbage', 'Kale', 'Cauliflower', 'Mushrooms',\n",
    "    'Avocados', 'Lemons', 'Limes', 'Garlic', 'Fresh Herbs', 'Baby Diapers', 'Baby Wipes', 'Baby Lotion', 'Baby Shampoo',\n",
    "    'Baby Powder', 'Baby Clothes', 'Baby Bottles', 'Baby Formula', 'Baby Snacks', 'Baby Rash Cream', 'Baby Carrier',\n",
    "    'Diaper Bag', 'Baby Crib', 'Baby High Chair', 'Baby Stroller', 'Baby Teething Rings', 'Lipstick', 'Lip Gloss',\n",
    "    'Lip Balm', 'Face Powder', 'Blush', 'Mascara', 'Eyeliner', 'Foundation', 'Concealer', 'Nail Polish',\n",
    "    'Makeup Brushes',\n",
    "    'Setting Spray', 'Face Cream', 'Face Masks', 'Hand Cream', 'Hair Shampoo', 'Hair Conditioner', 'Hair Gel',\n",
    "    'Hair Oil',\n",
    "    'Hairbrush', 'Facial Cleanser', 'Makeup Remover', 'Cotton Swabs', 'Toothpaste', 'Toothbrush', 'Mouthwash',\n",
    "    'Deodorant',\n",
    "    'Body Wash', 'Body Lotion', 'Razor', 'Shaving Cream', 'Bath Towels', 'Shower Curtain', 'Bath Mat', 'Loofah',\n",
    "    'Laundry Detergent', 'Fabric Softener', 'Ironing Board', 'Iron', 'Vacuum Cleaner', 'Broom', 'Dustpan', 'Mop',\n",
    "    'Toilet Paper', 'Paper Towels', 'Trash Bags', 'Dish Soap', 'Dishwashing Sponges', 'Cutting Boards', 'Knives',\n",
    "    'Pots and Pans', 'Cooking Utensils', 'Mixing Bowls', 'Bakeware', 'Can Opener', 'Tupperware', 'Coffee Maker',\n",
    "    'Toaster', 'Blender', 'Plates, Bowls, and Cups'\n",
    "]"
   ]
  },
  {
   "cell_type": "markdown",
   "id": "63361701-66e2-4405-ab1a-8a4f3a183946",
   "metadata": {},
   "source": [
    "**Function to Generate synthetic grocery transaction data using the above items**"
   ]
  },
  {
   "cell_type": "code",
   "execution_count": 3,
   "id": "4061ad0a-2451-4dea-981f-08826b139c7c",
   "metadata": {},
   "outputs": [],
   "source": [
    "def generate_grocery_dataset(num_transactions=1000, max_transaction_size=20):\n",
    "    transactions = []\n",
    "\n",
    "    for transaction_id in range(1, num_transactions + 1):\n",
    "        # Reduce the maximum transaction size to avoid large transactions\n",
    "        transaction_size = np.random.randint(1, max_transaction_size + 1)\n",
    "        transaction = random.sample(items, transaction_size)\n",
    "        transaction_data = [1 if item in transaction else 0 for item in items]\n",
    "        transactions.append([transaction_id] + transaction_data)\n",
    "\n",
    "    df = pd.DataFrame(transactions, columns=['Transaction_ID'] + items)\n",
    "\n",
    "    return df"
   ]
  },
  {
   "cell_type": "markdown",
   "id": "47ba6b54-971c-4456-8e14-fbade6e77fd3",
   "metadata": {},
   "source": [
    "**Generate random transactions with transaction id**"
   ]
  },
  {
   "cell_type": "code",
   "execution_count": 4,
   "id": "7f19f623-566c-45e6-a2b3-14092d3be33b",
   "metadata": {},
   "outputs": [],
   "source": [
    "df = generate_grocery_dataset(num_transactions=500, max_transaction_size=15)"
   ]
  },
  {
   "cell_type": "markdown",
   "id": "604ed203-c9f3-442f-a10a-df27f052822b",
   "metadata": {},
   "source": [
    "**Print the generated random dataset with Trtansaction IDs**"
   ]
  },
  {
   "cell_type": "code",
   "execution_count": 6,
   "id": "ade6d754-040e-458a-b943-f23692845f2a",
   "metadata": {},
   "outputs": [
    {
     "name": "stdout",
     "output_type": "stream",
     "text": [
      "Random Grocery Store Transactions:\n",
      "   Transaction_ID  Apples  Bananas  Oranges  Grapes  Tomatoes  Lettuce  \\\n",
      "0               1       0        0        1       0         0        0   \n",
      "1               2       0        0        0       0         0        0   \n",
      "2               3       0        0        0       0         0        0   \n",
      "3               4       0        0        0       0         0        0   \n",
      "4               5       0        1        0       0         0        0   \n",
      "\n",
      "   Carrots  Potatoes  Cucumbers  ...  Pots and Pans  Cooking Utensils  \\\n",
      "0        0         0          0  ...              0                 0   \n",
      "1        0         0          0  ...              0                 0   \n",
      "2        0         0          0  ...              0                 1   \n",
      "3        0         0          0  ...              0                 0   \n",
      "4        0         0          0  ...              0                 0   \n",
      "\n",
      "   Mixing Bowls  Bakeware  Can Opener  Tupperware  Coffee Maker  Toaster  \\\n",
      "0             0         0           0           0             0        0   \n",
      "1             0         0           0           0             1        0   \n",
      "2             0         0           0           0             0        0   \n",
      "3             0         0           0           0             1        0   \n",
      "4             0         0           0           0             0        1   \n",
      "\n",
      "   Blender  Plates, Bowls, and Cups  \n",
      "0        0                        0  \n",
      "1        0                        0  \n",
      "2        0                        0  \n",
      "3        0                        0  \n",
      "4        0                        0  \n",
      "\n",
      "[5 rows x 101 columns]\n"
     ]
    }
   ],
   "source": [
    "print(\"Random Grocery Store Transactions:\")\n",
    "print(df.head())"
   ]
  },
  {
   "cell_type": "markdown",
   "id": "96d9afb2-a45e-4761-b318-b50caab4245f",
   "metadata": {},
   "source": [
    "**Reset index before applying Apriori so 'Transaction_ID' is a column**\n"
   ]
  },
  {
   "cell_type": "code",
   "execution_count": 7,
   "id": "5743a739-fb5c-4e77-827b-f1d17868bdc3",
   "metadata": {},
   "outputs": [],
   "source": [
    "df_apriori = df.reset_index(drop=True)"
   ]
  },
  {
   "cell_type": "markdown",
   "id": "41505ca1-58c8-43c3-ae30-77289bb20588",
   "metadata": {},
   "source": [
    "**Apply Apriori algorithm (excluding 'Transaction_ID' column)**"
   ]
  },
  {
   "cell_type": "code",
   "execution_count": 8,
   "id": "a7f208a7-84fe-40eb-a229-95461114a14c",
   "metadata": {},
   "outputs": [],
   "source": [
    "df_apriori_items = df_apriori.drop(columns=['Transaction_ID'])"
   ]
  },
  {
   "cell_type": "markdown",
   "id": "e7f87d9e-78c5-4e2f-bc37-25a162ac390c",
   "metadata": {},
   "source": [
    "**Apply apriori algorithm with a lower min_support (0.02) to increase the chances of finding frequent itemsets**"
   ]
  },
  {
   "cell_type": "code",
   "execution_count": 9,
   "id": "20d9ca69-9d48-43ae-8bb0-8e06d1e36801",
   "metadata": {},
   "outputs": [
    {
     "name": "stderr",
     "output_type": "stream",
     "text": [
      "/opt/homebrew/Cellar/jupyterlab/4.3.5/libexec/lib/python3.13/site-packages/mlxtend/frequent_patterns/fpcommon.py:161: DeprecationWarning: DataFrames with non-bool types result in worse computationalperformance and their support might be discontinued in the future.Please use a DataFrame with bool type\n",
      "  warnings.warn(\n"
     ]
    }
   ],
   "source": [
    "frequent_itemsets = apriori(df_apriori_items, min_support=0.02, use_colnames=True)"
   ]
  },
  {
   "cell_type": "code",
   "execution_count": 10,
   "id": "11c2fa4e-0311-4090-b65a-373379d5ccdc",
   "metadata": {},
   "outputs": [],
   "source": [
    "# Generate association rules with a lower confidence threshold (0.05)\n",
    "rules = association_rules(frequent_itemsets, metric=\"confidence\", min_threshold=0.05)"
   ]
  },
  {
   "cell_type": "code",
   "execution_count": 11,
   "id": "64ec517e-df78-42fc-b5c6-21746777f93c",
   "metadata": {},
   "outputs": [],
   "source": [
    "# Calculate lift manually (lift = confidence / antecedent support)\n",
    "rules['lift'] = rules['confidence'] / rules['antecedent support']  \n"
   ]
  },
  {
   "cell_type": "markdown",
   "id": "2c25852b-0938-43ae-9229-9f55dc9f50fa",
   "metadata": {},
   "source": [
    "**Display Result**"
   ]
  },
  {
   "cell_type": "code",
   "execution_count": 12,
   "id": "43582d92-0421-4660-9857-001f0d658432",
   "metadata": {},
   "outputs": [
    {
     "name": "stdout",
     "output_type": "stream",
     "text": [
      "\n",
      "Frequent Itemsets:\n",
      "     support                        itemsets\n",
      "0      0.064                        (Apples)\n",
      "1      0.062                       (Bananas)\n",
      "2      0.076                       (Oranges)\n",
      "3      0.092                        (Grapes)\n",
      "4      0.088                      (Tomatoes)\n",
      "..       ...                             ...\n",
      "128    0.020         (Face Masks, Dish Soap)\n",
      "129    0.020  (Face Masks, Cooking Utensils)\n",
      "130    0.020      (Hair Oil, Makeup Remover)\n",
      "131    0.020     (Fabric Softener, Hair Oil)\n",
      "132    0.022    (Cooking Utensils, Hair Oil)\n",
      "\n",
      "[133 rows x 2 columns]\n",
      "\n",
      "Association Rules with Confidence and Lift:\n",
      "           antecedents         consequents  confidence      lift\n",
      "0            (Lettuce)      (Bell Peppers)    0.203704  1.886145\n",
      "1       (Bell Peppers)           (Lettuce)    0.275000  3.437500\n",
      "2          (Mushrooms)           (Lettuce)    0.244898  2.498959\n",
      "3            (Lettuce)         (Mushrooms)    0.222222  2.057613\n",
      "4        (Fresh Herbs)           (Lettuce)    0.285714  4.081633\n",
      "..                 ...                 ...         ...       ...\n",
      "61    (Makeup Remover)          (Hair Oil)    0.217391  2.362949\n",
      "62   (Fabric Softener)          (Hair Oil)    0.185185  1.714678\n",
      "63          (Hair Oil)   (Fabric Softener)    0.185185  1.714678\n",
      "64  (Cooking Utensils)          (Hair Oil)    0.261905  3.117914\n",
      "65          (Hair Oil)  (Cooking Utensils)    0.203704  1.886145\n",
      "\n",
      "[66 rows x 4 columns]\n"
     ]
    }
   ],
   "source": [
    "print(\"\\nFrequent Itemsets:\")\n",
    "print(frequent_itemsets)\n",
    "\n",
    "print(\"\\nAssociation Rules with Confidence and Lift:\")\n",
    "print(rules[['antecedents', 'consequents', 'confidence', 'lift']])"
   ]
  },
  {
   "cell_type": "code",
   "execution_count": null,
   "id": "b5e45ab9-dc05-4cdd-8ce0-2fb5de472b13",
   "metadata": {},
   "outputs": [],
   "source": []
  }
 ],
 "metadata": {
  "kernelspec": {
   "display_name": "Python 3 (ipykernel)",
   "language": "python",
   "name": "python3"
  },
  "language_info": {
   "codemirror_mode": {
    "name": "ipython",
    "version": 3
   },
   "file_extension": ".py",
   "mimetype": "text/x-python",
   "name": "python",
   "nbconvert_exporter": "python",
   "pygments_lexer": "ipython3",
   "version": "3.13.1"
  }
 },
 "nbformat": 4,
 "nbformat_minor": 5
}
